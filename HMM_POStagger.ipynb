{
 "cells": [
  {
   "cell_type": "markdown",
   "metadata": {},
   "source": [
    "\n",
    "### Use the function HiddenMarkovModelTagger.train() to estimate all probabilities for an HMM POS tagger from the MASC corpus.\n"
   ]
  },
  {
   "cell_type": "code",
   "execution_count": 1,
   "metadata": {},
   "outputs": [
    {
     "name": "stderr",
     "output_type": "stream",
     "text": [
      "[nltk_data] Downloading package masc_tagged to\n",
      "[nltk_data]     C:\\Users\\meiye\\AppData\\Roaming\\nltk_data...\n",
      "[nltk_data]   Package masc_tagged is already up-to-date!\n"
     ]
    },
    {
     "data": {
      "text/plain": [
       "True"
      ]
     },
     "execution_count": 1,
     "metadata": {},
     "output_type": "execute_result"
    }
   ],
   "source": [
    "## Initialization\n",
    "#\n",
    "import nltk\n",
    "from nltk.tokenize import sent_tokenize, word_tokenize\n",
    "\n",
    "nltk.download(\"masc_tagged\")\n",
    "\n"
   ]
  },
  {
   "cell_type": "code",
   "execution_count": 3,
   "metadata": {},
   "outputs": [
    {
     "name": "stdout",
     "output_type": "stream",
     "text": [
      "<HiddenMarkovModelTagger 60 states and 40333 output symbols>\n"
     ]
    },
    {
     "data": {
      "text/plain": [
       "[('the', 'DT'),\n",
       " ('answer', 'NN'),\n",
       " ('is', 'VBZ'),\n",
       " ('blowing', 'VBG'),\n",
       " ('in', 'IN'),\n",
       " ('the', 'DT'),\n",
       " ('wind', 'NN'),\n",
       " ('.', '.')]"
      ]
     },
     "execution_count": 3,
     "metadata": {},
     "output_type": "execute_result"
    }
   ],
   "source": [
    "## Train a HMM using the MASC corpus\n",
    "##\n",
    "from nltk.corpus import masc_tagged\n",
    "\n",
    "s = masc_tagged.tagged_sents()  # List of sentences in word-tag pairs as training data\n",
    "\n",
    "\n",
    "hmmTagger = nltk.tag.hmm.HiddenMarkovModelTagger.train(s)  # train hmmTagger\n",
    "print(hmmTagger)\n",
    "\n",
    "tagsent = hmmTagger.tag(['the', 'answer',  'is',  'blowing', 'in', 'the', 'wind', '.'])\n",
    "tagsent"
   ]
  },
  {
   "cell_type": "code",
   "execution_count": 10,
   "metadata": {
    "scrolled": true
   },
   "outputs": [
    {
     "name": "stdout",
     "output_type": "stream",
     "text": [
      "[[('She', 'PRP'), ('books', 'VBP'), ('the', 'DT'), ('tickets', 'NNS'), ('to', 'TO'), ('California', 'NNP'), ('.', '.')], [('Then', 'RB'), ('they', 'PRP'), ('buy', 'VBP'), ('the', 'DT'), ('book', 'NN'), (',', ','), ('drop', 'VB'), ('it', 'PRP'), ('to', 'TO'), ('the', 'DT'), ('back', 'NN'), ('seat', 'NN'), ('and', 'CC'), ('go', 'VB'), ('home', 'NN'), ('.', '.')], [('She', 'PRP'), ('also', 'RB'), ('asks', 'VBZ'), ('her', 'PRP$'), ('mom', 'NN'), ('to', 'TO'), ('bring', 'VB'), ('back', 'RB'), ('the', 'DT'), ('dogs', 'NNS'), ('.', '.')]]\n"
     ]
    }
   ],
   "source": [
    "## Use the trained hmmTagger to tag some text (normal english)\n",
    "##\n",
    "\n",
    "txt = \"She books the tickets to California. Then they buy the book, drop it to the back seat and go home. She also asks her mom to bring back the dogs.\"\n",
    "txt_sen = sent_tokenize(txt)             # Tokenize into list of sentences (string)\n",
    "txt_word = [tuple(word_tokenize(token)) for token in txt_sen]   # Tokenize into list of list of words\n",
    "\n",
    "txtTag = [hmmTagger.tag(sen) for sen in txt_word]    #\n",
    "print(txtTag)"
   ]
  },
  {
   "cell_type": "code",
   "execution_count": 125,
   "metadata": {},
   "outputs": [
    {
     "data": {
      "text/plain": [
       "[[('Misjoggle', 'RB'),\n",
       "  ('in', 'IN'),\n",
       "  ('a', 'DT'),\n",
       "  ('gripty', 'JJ'),\n",
       "  ('hifnipork', 'NNS'),\n",
       "  ('.', '.')],\n",
       " [('One', 'CD'),\n",
       "  ('fretigy', 'NNS'),\n",
       "  ('kriptog', 'WDT'),\n",
       "  ('is', 'VBZ'),\n",
       "  ('always', 'RB'),\n",
       "  ('better', 'JJR'),\n",
       "  ('than', 'IN'),\n",
       "  ('several', 'JJ'),\n",
       "  ('intersplicks', 'NNS'),\n",
       "  ('.', '.')]]"
      ]
     },
     "execution_count": 125,
     "metadata": {},
     "output_type": "execute_result"
    }
   ],
   "source": [
    "## Use tagger to tag another not-so-normal english text\n",
    "##\n",
    "txt2 = 'Misjoggle in a gripty hifnipork . One fretigy kriptog is always better than several intersplicks .'\n",
    "\n",
    "txt_sen2 = sent_tokenize(txt2)\n",
    "txt_word2 = [tuple(word_tokenize(sen)) for sen in txt_sen2]\n",
    "\n",
    "txtTag2 = [hmmTagger.tag(sen) for sen in txt_word2]\n",
    "txtTag2"
   ]
  }
 ],
 "metadata": {
  "kernelspec": {
   "display_name": "Venv1",
   "language": "python",
   "name": "venv1"
  },
  "language_info": {
   "codemirror_mode": {
    "name": "ipython",
    "version": 3
   },
   "file_extension": ".py",
   "mimetype": "text/x-python",
   "name": "python",
   "nbconvert_exporter": "python",
   "pygments_lexer": "ipython3",
   "version": "3.7.3"
  }
 },
 "nbformat": 4,
 "nbformat_minor": 2
}
